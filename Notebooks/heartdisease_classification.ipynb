{
 "cells": [
  {
   "cell_type": "code",
   "execution_count": 94,
   "id": "6f376974",
   "metadata": {},
   "outputs": [],
   "source": [
    "%reset -f\n",
    "import pandas as pd \n",
    "data=pd.read_csv('heart_disease_uci.csv')\n",
    "data.drop(['id','oldpeak','dataset','ca'],axis=1,inplace=True)\n",
    "data.dropna(inplace=True)\n",
    "data.drop_duplicates(inplace=True)\n"
   ]
  },
  {
   "cell_type": "code",
   "execution_count": 95,
   "id": "22d0832d",
   "metadata": {},
   "outputs": [],
   "source": [
    "datachol=data[data['chol']<370]\n",
    "data=datachol[datachol['chol']>120]\n",
    "del datachol\n",
    "data=data[data['trestbps']<170]\n"
   ]
  },
  {
   "cell_type": "code",
   "execution_count": 96,
   "id": "56df4aa2",
   "metadata": {},
   "outputs": [
    {
     "data": {
      "text/plain": [
       "0      1\n",
       "1      1\n",
       "2      1\n",
       "3      1\n",
       "4      0\n",
       "      ..\n",
       "890    1\n",
       "891    1\n",
       "892    1\n",
       "902    1\n",
       "903    1\n",
       "Name: sex, Length: 302, dtype: int64"
      ]
     },
     "execution_count": 96,
     "metadata": {},
     "output_type": "execute_result"
    }
   ],
   "source": [
    "def gender(x):\n",
    "    if x==\"Male\":\n",
    "        return 1\n",
    "    else:\n",
    "        return 0\n",
    "data['sex']=data['sex'].apply(lambda x:gender(x))\n",
    "data['sex']"
   ]
  },
  {
   "cell_type": "code",
   "execution_count": 97,
   "id": "4cb43ca7",
   "metadata": {},
   "outputs": [],
   "source": [
    "def fbss(x):\n",
    "    x=str(x)\n",
    "    if x==\"True\":\n",
    "        return 1\n",
    "    elif x==\"False\":\n",
    "        return 0\n",
    "data['fbs']=data['fbs'].apply(lambda x:fbss(x))\n"
   ]
  },
  {
   "cell_type": "code",
   "execution_count": 98,
   "id": "047902d5",
   "metadata": {},
   "outputs": [
    {
     "data": {
      "text/plain": [
       "thal\n",
       "1    165\n",
       "2    116\n",
       "3     21\n",
       "Name: count, dtype: int64"
      ]
     },
     "execution_count": 98,
     "metadata": {},
     "output_type": "execute_result"
    }
   ],
   "source": [
    "def thal(x):\n",
    "    if x==\"normal\":\n",
    "        return 1\n",
    "    elif x==\"reversable defect\":\n",
    "        return 2\n",
    "    else:\n",
    "        return 3\n",
    "data['thal']=data['thal'].apply(lambda x :thal(x))\n",
    "data['thal'].value_counts()"
   ]
  },
  {
   "cell_type": "code",
   "execution_count": 99,
   "id": "99f7a7e8",
   "metadata": {},
   "outputs": [
    {
     "data": {
      "text/plain": [
       "exang\n",
       "0    197\n",
       "1    105\n",
       "Name: count, dtype: int64"
      ]
     },
     "execution_count": 99,
     "metadata": {},
     "output_type": "execute_result"
    }
   ],
   "source": [
    "def exang(x):\n",
    "    x=str(x)\n",
    "    if x==\"True\":\n",
    "        return 1\n",
    "    elif x==\"False\":\n",
    "        return 0\n",
    "data['exang']=data['exang'].apply(lambda x :exang(x))\n",
    "data['exang'].value_counts()"
   ]
  },
  {
   "cell_type": "code",
   "execution_count": 100,
   "id": "cd6dfa8d",
   "metadata": {},
   "outputs": [],
   "source": [
    "def slop(x):\n",
    "    if x==\"flat\":\n",
    "        return 1\n",
    "    elif x==\"upsloping\":\n",
    "        return 2\n",
    "    else:\n",
    "        return 3\n",
    "data['slope']=data['slope'].apply(lambda x :slop(x))\n"
   ]
  },
  {
   "cell_type": "code",
   "execution_count": 101,
   "id": "5320b230",
   "metadata": {},
   "outputs": [
    {
     "data": {
      "text/plain": [
       "np.int64(0)"
      ]
     },
     "execution_count": 101,
     "metadata": {},
     "output_type": "execute_result"
    }
   ],
   "source": [
    "def cp(x):\n",
    "    if x==\"asymptomatic\":\n",
    "        return 1\n",
    "    elif x==\"non-anginal\":\n",
    "        return 2\n",
    "    elif x==\"typical angina\":\n",
    "        return 3\n",
    "    else:\n",
    "        return 4\n",
    "data['cp']=data['cp'].apply(lambda x :cp(x))\n",
    "data['cp'].isna().sum()   "
   ]
  },
  {
   "cell_type": "code",
   "execution_count": 102,
   "id": "b5761e47",
   "metadata": {},
   "outputs": [
    {
     "data": {
      "text/plain": [
       "restecg\n",
       "1    157\n",
       "2    137\n",
       "3      8\n",
       "Name: count, dtype: int64"
      ]
     },
     "execution_count": 102,
     "metadata": {},
     "output_type": "execute_result"
    }
   ],
   "source": [
    "def rest(x):\n",
    "    if x==\"normal\":\n",
    "        return 1\n",
    "    elif x==\"lv hypertrophy\":\n",
    "        return 2\n",
    "    else:\n",
    "        return 3\n",
    "data['restecg']=data['restecg'].apply(lambda x:rest(x))\n",
    "data['restecg'].value_counts()    "
   ]
  },
  {
   "cell_type": "code",
   "execution_count": 103,
   "id": "1a459b1a",
   "metadata": {},
   "outputs": [
    {
     "data": {
      "text/plain": [
       "num\n",
       "0    162\n",
       "1    140\n",
       "Name: count, dtype: int64"
      ]
     },
     "execution_count": 103,
     "metadata": {},
     "output_type": "execute_result"
    }
   ],
   "source": [
    "def nummm(x):\n",
    "    if x==0:\n",
    "        return 0\n",
    "    else:\n",
    "        return 1\n",
    "data['num']=data['num'].apply(lambda x:nummm(x))\n",
    "data['num'].value_counts()     "
   ]
  },
  {
   "cell_type": "code",
   "execution_count": 104,
   "id": "97ac0b97",
   "metadata": {},
   "outputs": [
    {
     "data": {
      "text/html": [
       "<div>\n",
       "<style scoped>\n",
       "    .dataframe tbody tr th:only-of-type {\n",
       "        vertical-align: middle;\n",
       "    }\n",
       "\n",
       "    .dataframe tbody tr th {\n",
       "        vertical-align: top;\n",
       "    }\n",
       "\n",
       "    .dataframe thead th {\n",
       "        text-align: right;\n",
       "    }\n",
       "</style>\n",
       "<table border=\"1\" class=\"dataframe\">\n",
       "  <thead>\n",
       "    <tr style=\"text-align: right;\">\n",
       "      <th></th>\n",
       "      <th>age</th>\n",
       "      <th>sex</th>\n",
       "      <th>cp</th>\n",
       "      <th>trestbps</th>\n",
       "      <th>chol</th>\n",
       "      <th>fbs</th>\n",
       "      <th>restecg</th>\n",
       "      <th>thalch</th>\n",
       "      <th>exang</th>\n",
       "      <th>slope</th>\n",
       "      <th>thal</th>\n",
       "      <th>num</th>\n",
       "    </tr>\n",
       "  </thead>\n",
       "  <tbody>\n",
       "    <tr>\n",
       "      <th>0</th>\n",
       "      <td>63</td>\n",
       "      <td>1</td>\n",
       "      <td>3</td>\n",
       "      <td>145.0</td>\n",
       "      <td>233.0</td>\n",
       "      <td>1</td>\n",
       "      <td>2</td>\n",
       "      <td>150.0</td>\n",
       "      <td>0</td>\n",
       "      <td>3</td>\n",
       "      <td>3</td>\n",
       "      <td>0</td>\n",
       "    </tr>\n",
       "    <tr>\n",
       "      <th>1</th>\n",
       "      <td>67</td>\n",
       "      <td>1</td>\n",
       "      <td>1</td>\n",
       "      <td>160.0</td>\n",
       "      <td>286.0</td>\n",
       "      <td>0</td>\n",
       "      <td>2</td>\n",
       "      <td>108.0</td>\n",
       "      <td>1</td>\n",
       "      <td>1</td>\n",
       "      <td>1</td>\n",
       "      <td>1</td>\n",
       "    </tr>\n",
       "    <tr>\n",
       "      <th>2</th>\n",
       "      <td>67</td>\n",
       "      <td>1</td>\n",
       "      <td>1</td>\n",
       "      <td>120.0</td>\n",
       "      <td>229.0</td>\n",
       "      <td>0</td>\n",
       "      <td>2</td>\n",
       "      <td>129.0</td>\n",
       "      <td>1</td>\n",
       "      <td>1</td>\n",
       "      <td>2</td>\n",
       "      <td>1</td>\n",
       "    </tr>\n",
       "    <tr>\n",
       "      <th>3</th>\n",
       "      <td>37</td>\n",
       "      <td>1</td>\n",
       "      <td>2</td>\n",
       "      <td>130.0</td>\n",
       "      <td>250.0</td>\n",
       "      <td>0</td>\n",
       "      <td>1</td>\n",
       "      <td>187.0</td>\n",
       "      <td>0</td>\n",
       "      <td>3</td>\n",
       "      <td>1</td>\n",
       "      <td>0</td>\n",
       "    </tr>\n",
       "    <tr>\n",
       "      <th>4</th>\n",
       "      <td>41</td>\n",
       "      <td>0</td>\n",
       "      <td>4</td>\n",
       "      <td>130.0</td>\n",
       "      <td>204.0</td>\n",
       "      <td>0</td>\n",
       "      <td>2</td>\n",
       "      <td>172.0</td>\n",
       "      <td>0</td>\n",
       "      <td>2</td>\n",
       "      <td>1</td>\n",
       "      <td>0</td>\n",
       "    </tr>\n",
       "    <tr>\n",
       "      <th>...</th>\n",
       "      <td>...</td>\n",
       "      <td>...</td>\n",
       "      <td>...</td>\n",
       "      <td>...</td>\n",
       "      <td>...</td>\n",
       "      <td>...</td>\n",
       "      <td>...</td>\n",
       "      <td>...</td>\n",
       "      <td>...</td>\n",
       "      <td>...</td>\n",
       "      <td>...</td>\n",
       "      <td>...</td>\n",
       "    </tr>\n",
       "    <tr>\n",
       "      <th>297</th>\n",
       "      <td>53</td>\n",
       "      <td>1</td>\n",
       "      <td>1</td>\n",
       "      <td>124.0</td>\n",
       "      <td>243.0</td>\n",
       "      <td>0</td>\n",
       "      <td>1</td>\n",
       "      <td>122.0</td>\n",
       "      <td>1</td>\n",
       "      <td>1</td>\n",
       "      <td>2</td>\n",
       "      <td>1</td>\n",
       "    </tr>\n",
       "    <tr>\n",
       "      <th>298</th>\n",
       "      <td>37</td>\n",
       "      <td>1</td>\n",
       "      <td>2</td>\n",
       "      <td>118.0</td>\n",
       "      <td>240.0</td>\n",
       "      <td>0</td>\n",
       "      <td>2</td>\n",
       "      <td>165.0</td>\n",
       "      <td>0</td>\n",
       "      <td>1</td>\n",
       "      <td>1</td>\n",
       "      <td>0</td>\n",
       "    </tr>\n",
       "    <tr>\n",
       "      <th>299</th>\n",
       "      <td>67</td>\n",
       "      <td>1</td>\n",
       "      <td>1</td>\n",
       "      <td>140.0</td>\n",
       "      <td>219.0</td>\n",
       "      <td>0</td>\n",
       "      <td>3</td>\n",
       "      <td>122.0</td>\n",
       "      <td>1</td>\n",
       "      <td>1</td>\n",
       "      <td>2</td>\n",
       "      <td>1</td>\n",
       "    </tr>\n",
       "    <tr>\n",
       "      <th>300</th>\n",
       "      <td>55</td>\n",
       "      <td>1</td>\n",
       "      <td>1</td>\n",
       "      <td>120.0</td>\n",
       "      <td>226.0</td>\n",
       "      <td>0</td>\n",
       "      <td>2</td>\n",
       "      <td>127.0</td>\n",
       "      <td>1</td>\n",
       "      <td>3</td>\n",
       "      <td>2</td>\n",
       "      <td>1</td>\n",
       "    </tr>\n",
       "    <tr>\n",
       "      <th>301</th>\n",
       "      <td>56</td>\n",
       "      <td>1</td>\n",
       "      <td>1</td>\n",
       "      <td>130.0</td>\n",
       "      <td>203.0</td>\n",
       "      <td>1</td>\n",
       "      <td>1</td>\n",
       "      <td>98.0</td>\n",
       "      <td>0</td>\n",
       "      <td>1</td>\n",
       "      <td>2</td>\n",
       "      <td>1</td>\n",
       "    </tr>\n",
       "  </tbody>\n",
       "</table>\n",
       "<p>302 rows × 12 columns</p>\n",
       "</div>"
      ],
      "text/plain": [
       "     age  sex  cp  trestbps   chol  fbs  restecg  thalch  exang  slope  thal  \\\n",
       "0     63    1   3     145.0  233.0    1        2   150.0      0      3     3   \n",
       "1     67    1   1     160.0  286.0    0        2   108.0      1      1     1   \n",
       "2     67    1   1     120.0  229.0    0        2   129.0      1      1     2   \n",
       "3     37    1   2     130.0  250.0    0        1   187.0      0      3     1   \n",
       "4     41    0   4     130.0  204.0    0        2   172.0      0      2     1   \n",
       "..   ...  ...  ..       ...    ...  ...      ...     ...    ...    ...   ...   \n",
       "297   53    1   1     124.0  243.0    0        1   122.0      1      1     2   \n",
       "298   37    1   2     118.0  240.0    0        2   165.0      0      1     1   \n",
       "299   67    1   1     140.0  219.0    0        3   122.0      1      1     2   \n",
       "300   55    1   1     120.0  226.0    0        2   127.0      1      3     2   \n",
       "301   56    1   1     130.0  203.0    1        1    98.0      0      1     2   \n",
       "\n",
       "     num  \n",
       "0      0  \n",
       "1      1  \n",
       "2      1  \n",
       "3      0  \n",
       "4      0  \n",
       "..   ...  \n",
       "297    1  \n",
       "298    0  \n",
       "299    1  \n",
       "300    1  \n",
       "301    1  \n",
       "\n",
       "[302 rows x 12 columns]"
      ]
     },
     "execution_count": 104,
     "metadata": {},
     "output_type": "execute_result"
    }
   ],
   "source": [
    "data.drop_duplicates(inplace=True)\n",
    "data.reset_index(inplace=True)\n",
    "data.drop(['index'],axis=1,inplace=True)\n",
    "data"
   ]
  },
  {
   "cell_type": "code",
   "execution_count": 105,
   "id": "693c5c10",
   "metadata": {},
   "outputs": [],
   "source": [
    "data=data[data['age']>32]\n"
   ]
  },
  {
   "cell_type": "code",
   "execution_count": 106,
   "id": "a569c8ba",
   "metadata": {},
   "outputs": [],
   "source": [
    "data=data[data['thalch']>82]\n"
   ]
  },
  {
   "cell_type": "code",
   "execution_count": 107,
   "id": "a3d36240",
   "metadata": {},
   "outputs": [
    {
     "data": {
      "text/plain": [
       "0      0\n",
       "1      1\n",
       "2      1\n",
       "3      0\n",
       "4      0\n",
       "      ..\n",
       "297    1\n",
       "298    0\n",
       "299    1\n",
       "300    1\n",
       "301    1\n",
       "Name: num, Length: 300, dtype: int64"
      ]
     },
     "execution_count": 107,
     "metadata": {},
     "output_type": "execute_result"
    }
   ],
   "source": [
    "X=data.drop(['num'],inplace=False,axis=1)\n",
    "y=data['num']\n",
    "y"
   ]
  },
  {
   "cell_type": "code",
   "execution_count": 108,
   "id": "47b38bc1",
   "metadata": {},
   "outputs": [],
   "source": [
    "from sklearn.model_selection import train_test_split\n",
    "from sklearn.ensemble import RandomForestClassifier\n",
    "from sklearn.metrics import accuracy_score,classification_report\n",
    "import joblib\n",
    "import torch"
   ]
  },
  {
   "cell_type": "code",
   "execution_count": 109,
   "id": "bba6c5bc",
   "metadata": {},
   "outputs": [],
   "source": [
    "import torch\n",
    "import torch.nn as nn\n",
    "class SimpleModel(nn.Module):\n",
    "    def __init__(self):\n",
    "        super(SimpleModel, self).__init__()\n",
    "        self.fc = nn.Linear(10, 1)\n",
    "    def forward(self, x):\n",
    "        return self.fc(x)\n",
    "model = SimpleModel()"
   ]
  },
  {
   "cell_type": "code",
   "execution_count": 110,
   "id": "2884fac6",
   "metadata": {},
   "outputs": [
    {
     "name": "stdout",
     "output_type": "stream",
     "text": [
      "              precision    recall  f1-score   support\n",
      "\n",
      "           0       1.00      0.95      0.97        19\n",
      "           1       0.92      1.00      0.96        11\n",
      "\n",
      "    accuracy                           0.97        30\n",
      "   macro avg       0.96      0.97      0.96        30\n",
      "weighted avg       0.97      0.97      0.97        30\n",
      "\n",
      " test 0.9666666666666667\n",
      "train 0.9851851851851852\n"
     ]
    },
    {
     "data": {
      "text/plain": [
       "['project.pkl']"
      ]
     },
     "execution_count": 110,
     "metadata": {},
     "output_type": "execute_result"
    }
   ],
   "source": [
    "rand=RandomForestClassifier(n_estimators=12,random_state=26)\n",
    "x_train,x_test,y_train,y_test=train_test_split(X,y,test_size=0.1,random_state=42,shuffle=True)\n",
    "rand.fit(x_train,y_train)\n",
    "y_pred=rand.predict(x_test)\n",
    "report=classification_report(y_test,y_pred)\n",
    "print(report)\n",
    "train_pred = rand.predict(x_train)\n",
    "test_pred = rand.predict(x_test)\n",
    "train=accuracy_score(y_train,train_pred)\n",
    "test=accuracy_score(y_test,test_pred)\n",
    "print(f\" test {test}\")\n",
    "print(f\"train {train}\")\n",
    "joblib.dump(rand, 'project.pkl')"
   ]
  },
  {
   "cell_type": "code",
   "execution_count": 111,
   "id": "77966f03",
   "metadata": {},
   "outputs": [],
   "source": [
    "\n",
    "torch.save(model.state_dict(), \"Heart_classification.pth\")"
   ]
  }
 ],
 "metadata": {
  "kernelspec": {
   "display_name": "Python 3",
   "language": "python",
   "name": "python3"
  },
  "language_info": {
   "codemirror_mode": {
    "name": "ipython",
    "version": 3
   },
   "file_extension": ".py",
   "mimetype": "text/x-python",
   "name": "python",
   "nbconvert_exporter": "python",
   "pygments_lexer": "ipython3",
   "version": "3.13.0"
  }
 },
 "nbformat": 4,
 "nbformat_minor": 5
}
